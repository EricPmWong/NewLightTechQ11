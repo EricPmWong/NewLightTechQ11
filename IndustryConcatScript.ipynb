{
 "cells": [
  {
   "cell_type": "markdown",
   "metadata": {},
   "source": [
    "## Imports"
   ]
  },
  {
   "cell_type": "code",
   "execution_count": 771,
   "metadata": {},
   "outputs": [],
   "source": [
    "import pandas as pd\n",
    "import os"
   ]
  },
  {
   "cell_type": "markdown",
   "metadata": {},
   "source": [
    "## Loads Dataframes Manually (A loop could have been used in retrospect)"
   ]
  },
  {
   "cell_type": "code",
   "execution_count": 772,
   "metadata": {},
   "outputs": [],
   "source": [
    "df1 = pd.read_csv(r\"C:\\Users\\ericp\\OneDrive\\Documents\\GitHub\\project-4\\BLSdata\\SandyData\\Bronx2011-2014.csv\")"
   ]
  },
  {
   "cell_type": "code",
   "execution_count": 773,
   "metadata": {},
   "outputs": [],
   "source": [
    "df2 = pd.read_csv(r\"C:\\Users\\ericp\\OneDrive\\Documents\\GitHub\\project-4\\BLSdata\\SandyData\\Hudson2011-2014.csv\")"
   ]
  },
  {
   "cell_type": "code",
   "execution_count": 774,
   "metadata": {},
   "outputs": [],
   "source": [
    "df3 = pd.read_csv(r\"C:\\Users\\ericp\\OneDrive\\Documents\\GitHub\\project-4\\BLSdata\\SandyData\\Kings2011-2014.csv\" )"
   ]
  },
  {
   "cell_type": "code",
   "execution_count": 775,
   "metadata": {},
   "outputs": [],
   "source": [
    "df4 = pd.read_csv(r\"C:\\Users\\ericp\\OneDrive\\Documents\\GitHub\\project-4\\BLSdata\\SandyData\\New York2011-2014.csv\" )"
   ]
  },
  {
   "cell_type": "code",
   "execution_count": 776,
   "metadata": {},
   "outputs": [],
   "source": [
    "df5 = pd.read_csv(r\"C:\\Users\\ericp\\OneDrive\\Documents\\GitHub\\project-4\\BLSdata\\SandyData\\Queens2011-2014.csv\"  )"
   ]
  },
  {
   "cell_type": "code",
   "execution_count": 777,
   "metadata": {},
   "outputs": [],
   "source": [
    "df6 = pd.read_csv(r\"C:\\Users\\ericp\\OneDrive\\Documents\\GitHub\\project-4\\BLSdata\\SandyData\\Richmond2011-2014.csv\")"
   ]
  },
  {
   "cell_type": "code",
   "execution_count": 778,
   "metadata": {},
   "outputs": [],
   "source": [
    "df7 = pd.read_csv(r\"C:\\Users\\ericp\\OneDrive\\Documents\\GitHub\\project-4\\BLSdata\\HarveyData\\Matagorda2015-2018.csv\" )"
   ]
  },
  {
   "cell_type": "code",
   "execution_count": 779,
   "metadata": {},
   "outputs": [],
   "source": [
    "df8= pd.read_csv(r\"C:\\Users\\ericp\\OneDrive\\Documents\\GitHub\\project-4\\BLSdata\\HarveyData\\Orange2015-2018.csv\" )"
   ]
  },
  {
   "cell_type": "code",
   "execution_count": 780,
   "metadata": {},
   "outputs": [],
   "source": [
    "df9 = pd.read_csv(r\"C:\\Users\\ericp\\OneDrive\\Documents\\GitHub\\project-4\\BLSdata\\KatrinaData\\Terrebonne2003-2006.csv\"  )"
   ]
  },
  {
   "cell_type": "code",
   "execution_count": 781,
   "metadata": {},
   "outputs": [],
   "source": [
    "df10 = pd.read_csv(r\"C:\\Users\\ericp\\OneDrive\\Documents\\GitHub\\project-4\\BLSdata\\KatrinaData\\Washington2003-2006.csv\"  )"
   ]
  },
  {
   "cell_type": "markdown",
   "metadata": {},
   "source": [
    "## Prints out a list to be copied and pasted into next set list"
   ]
  },
  {
   "cell_type": "code",
   "execution_count": 782,
   "metadata": {},
   "outputs": [
    {
     "name": "stdout",
     "output_type": "stream",
     "text": [
      "df1,\n",
      "df2,\n",
      "df3,\n",
      "df4,\n",
      "df5,\n",
      "df6,\n"
     ]
    }
   ],
   "source": [
    "for x in range(1,7):\n",
    "    print(\"df\"+str(x)+\",\")"
   ]
  },
  {
   "cell_type": "markdown",
   "metadata": {},
   "source": [
    "## List of dataframes to iterate"
   ]
  },
  {
   "cell_type": "code",
   "execution_count": 783,
   "metadata": {},
   "outputs": [],
   "source": [
    "dflist = [\n",
    "df1,\n",
    "df2,\n",
    "df3,\n",
    "df4,\n",
    "df5,\n",
    "df6\n",
    "]"
   ]
  },
  {
   "cell_type": "markdown",
   "metadata": {},
   "source": [
    "## Creates list of columns we want (Industry employment numbers)"
   ]
  },
  {
   "cell_type": "code",
   "execution_count": 784,
   "metadata": {},
   "outputs": [],
   "source": [
    "subjectlist= [x for x in df1.columns[2::3]]"
   ]
  },
  {
   "cell_type": "markdown",
   "metadata": {},
   "source": [
    "## FillsNAs with 0 (In retrospect the mean, or interpolation would have been MUCH better). We analyzed the data though and the inpact was minimal"
   ]
  },
  {
   "cell_type": "code",
   "execution_count": 785,
   "metadata": {},
   "outputs": [],
   "source": [
    "for x in dflist:\n",
    "    x.fillna(int(0), inplace=True)"
   ]
  },
  {
   "cell_type": "markdown",
   "metadata": {},
   "source": [
    "## Creates Industry Variables"
   ]
  },
  {
   "cell_type": "code",
   "execution_count": 786,
   "metadata": {},
   "outputs": [],
   "source": [
    "natural_resources_mining_all_employees = []\n",
    "construction_all_employees= []\n",
    "manufacturing_all_employees= []\n",
    "trade_transportation_utilities_all_employees= []\n",
    "information_all_employees= []\n",
    "financial_activities_all_employees= []\n",
    "professional_business_services_all_employees= []\n",
    "education_health_services_all_employees= []\n",
    "leisure_hospitality_all_employees= []\n",
    "other_services_all_employees= []\n",
    "total_industries_aggr_value= []"
   ]
  },
  {
   "cell_type": "markdown",
   "metadata": {},
   "source": [
    "## Takes all counties data by subject and groups together by industry"
   ]
  },
  {
   "cell_type": "code",
   "execution_count": 787,
   "metadata": {},
   "outputs": [],
   "source": [
    "for df in dflist:\n",
    "    natural_resources_mining_all_employees.append(df[subjectlist[0]]) \n",
    "    construction_all_employees.append(df[subjectlist[1]])\n",
    "    manufacturing_all_employees.append(df[subjectlist[2]])\n",
    "    trade_transportation_utilities_all_employees.append(df[subjectlist[3]])\n",
    "    information_all_employees.append(df[subjectlist[4]])\n",
    "    financial_activities_all_employees.append(df[subjectlist[5]])\n",
    "    professional_business_services_all_employees.append(df[subjectlist[6]])\n",
    "    education_health_services_all_employees.append(df[subjectlist[7]])\n",
    "    leisure_hospitality_all_employees.append(df[subjectlist[8]])\n",
    "    other_services_all_employees.append(df[subjectlist[9]])\n",
    "    total_industries_aggr_value.append(df[subjectlist[10]])"
   ]
  },
  {
   "cell_type": "markdown",
   "metadata": {},
   "source": [
    "## Takes each industry, creates dataframe, Sums up total, sets date as index, and saves it CSV file"
   ]
  },
  {
   "cell_type": "code",
   "execution_count": 788,
   "metadata": {},
   "outputs": [],
   "source": [
    "natural_resources_mining_all_employees = pd.DataFrame(natural_resources_mining_all_employees).T\n",
    "natural_resources_mining_all_employees['total'] = natural_resources_mining_all_employees.sum(axis=1)\n",
    "natural_resources_mining_all_employees = natural_resources_mining_all_employees['total']\n",
    "natural_resources_mining_all_employees.index = df1.date\n",
    "natural_resources_mining_all_employees\n",
    "natural_resources_mining_all_employees.to_csv('natural_resources_mining_all_employees.csv')"
   ]
  },
  {
   "cell_type": "code",
   "execution_count": 789,
   "metadata": {},
   "outputs": [],
   "source": [
    "construction_all_employees = pd.DataFrame(construction_all_employees).T\n",
    "construction_all_employees['total'] = construction_all_employees.sum(axis=1)\n",
    "construction_all_employees = construction_all_employees['total']\n",
    "construction_all_employees.index = df1.date\n",
    "construction_all_employees\n",
    "construction_all_employees.to_csv('construction_all_employees.csv')"
   ]
  },
  {
   "cell_type": "code",
   "execution_count": 790,
   "metadata": {},
   "outputs": [],
   "source": [
    "manufacturing_all_employees = pd.DataFrame(manufacturing_all_employees).T\n",
    "manufacturing_all_employees['total'] = manufacturing_all_employees.sum(axis=1)\n",
    "manufacturing_all_employees = manufacturing_all_employees['total']\n",
    "manufacturing_all_employees.index = df1.date\n",
    "manufacturing_all_employees\n",
    "manufacturing_all_employees.to_csv('manufacturing_all_employees.csv')"
   ]
  },
  {
   "cell_type": "code",
   "execution_count": 791,
   "metadata": {},
   "outputs": [],
   "source": [
    "trade_transportation_utilities_all_employees = pd.DataFrame(trade_transportation_utilities_all_employees).T\n",
    "trade_transportation_utilities_all_employees['total'] = trade_transportation_utilities_all_employees.sum(axis=1)\n",
    "trade_transportation_utilities_all_employees = trade_transportation_utilities_all_employees['total']\n",
    "trade_transportation_utilities_all_employees.index = df1.date\n",
    "trade_transportation_utilities_all_employees\n",
    "trade_transportation_utilities_all_employees.to_csv('trade_transportation_utilities_all_employees.csv')"
   ]
  },
  {
   "cell_type": "code",
   "execution_count": 792,
   "metadata": {},
   "outputs": [],
   "source": [
    "information_all_employees = pd.DataFrame(information_all_employees).T\n",
    "information_all_employees['total'] = information_all_employees.sum(axis=1)\n",
    "information_all_employees = information_all_employees['total']\n",
    "information_all_employees.index = df1.date\n",
    "information_all_employees\n",
    "information_all_employees.to_csv('information_all_employees.csv')"
   ]
  },
  {
   "cell_type": "code",
   "execution_count": 793,
   "metadata": {},
   "outputs": [],
   "source": [
    "financial_activities_all_employees = pd.DataFrame(financial_activities_all_employees).T\n",
    "financial_activities_all_employees['total'] = financial_activities_all_employees.sum(axis=1)\n",
    "financial_activities_all_employees = financial_activities_all_employees['total']\n",
    "financial_activities_all_employees.index = df1.date\n",
    "financial_activities_all_employees\n",
    "financial_activities_all_employees.to_csv('financial_activities_all_employees.csv')"
   ]
  },
  {
   "cell_type": "code",
   "execution_count": 794,
   "metadata": {},
   "outputs": [],
   "source": [
    "professional_business_services_all_employees = pd.DataFrame(professional_business_services_all_employees).T\n",
    "professional_business_services_all_employees['total'] = professional_business_services_all_employees.sum(axis=1)\n",
    "professional_business_services_all_employees = professional_business_services_all_employees['total']\n",
    "professional_business_services_all_employees.index = df1.date\n",
    "professional_business_services_all_employees\n",
    "professional_business_services_all_employees.to_csv('professional_business_services_all_employees.csv')"
   ]
  },
  {
   "cell_type": "code",
   "execution_count": 795,
   "metadata": {},
   "outputs": [],
   "source": [
    "education_health_services_all_employees = pd.DataFrame(education_health_services_all_employees).T\n",
    "education_health_services_all_employees['total'] = education_health_services_all_employees.sum(axis=1)\n",
    "education_health_services_all_employees = education_health_services_all_employees['total']\n",
    "education_health_services_all_employees.index = df1.date\n",
    "education_health_services_all_employees\n",
    "education_health_services_all_employees.to_csv('education_health_services_all_employees.csv')"
   ]
  },
  {
   "cell_type": "code",
   "execution_count": 796,
   "metadata": {},
   "outputs": [],
   "source": [
    "leisure_hospitality_all_employees = pd.DataFrame(leisure_hospitality_all_employees).T\n",
    "leisure_hospitality_all_employees['total'] = leisure_hospitality_all_employees.sum(axis=1)\n",
    "leisure_hospitality_all_employees = leisure_hospitality_all_employees['total']\n",
    "leisure_hospitality_all_employees.index = df1.date\n",
    "leisure_hospitality_all_employees\n",
    "leisure_hospitality_all_employees.to_csv('leisure_hospitality_all_employees.csv')"
   ]
  },
  {
   "cell_type": "code",
   "execution_count": 797,
   "metadata": {},
   "outputs": [],
   "source": [
    "other_services_all_employees = pd.DataFrame(other_services_all_employees).T\n",
    "other_services_all_employees['total'] = other_services_all_employees.sum(axis=1)\n",
    "other_services_all_employees = other_services_all_employees['total']\n",
    "other_services_all_employees.index = df1.date\n",
    "other_services_all_employees\n",
    "other_services_all_employees.to_csv('other_services_all_employees.csv')"
   ]
  }
 ],
 "metadata": {
  "kernelspec": {
   "display_name": "Python 3",
   "language": "python",
   "name": "python3"
  },
  "language_info": {
   "codemirror_mode": {
    "name": "ipython",
    "version": 3
   },
   "file_extension": ".py",
   "mimetype": "text/x-python",
   "name": "python",
   "nbconvert_exporter": "python",
   "pygments_lexer": "ipython3",
   "version": "3.6.6"
  }
 },
 "nbformat": 4,
 "nbformat_minor": 2
}
