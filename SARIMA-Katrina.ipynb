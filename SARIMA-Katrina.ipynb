{
 "cells": [
  {
   "cell_type": "code",
   "execution_count": 105,
   "metadata": {},
   "outputs": [],
   "source": [
    "import pandas as pd\n",
    "import numpy as np\n",
    "from datetime import datetime\n",
    "import matplotlib.pyplot as plt\n",
    "import seaborn as sns\n",
    "from sklearn.model_selection import cross_val_score, cross_val_predict, KFold\n",
    "from sklearn.metrics import r2_score, mean_squared_error\n",
    "from sklearn.ensemble import RandomForestRegressor\n",
    "from statsmodels.graphics.tsaplots import plot_acf, plot_pacf\n",
    "from statsmodels.tsa.arima_model import ARIMA\n",
    "from statsmodels.tsa.statespace.sarimax import SARIMAX\n",
    "from statsmodels.tsa.stattools import adfuller\n",
    "\n",
    "sns.set_style('whitegrid')\n",
    "\n",
    "%matplotlib inline\n",
    "%config InlineBackend.figure_format = 'retina'"
   ]
  },
  {
   "cell_type": "code",
   "execution_count": 106,
   "metadata": {},
   "outputs": [],
   "source": [
    "industries = ['construction', 'education_health_services', 'financial_activities', 'information', \n",
    "              'leisure_hospitality', 'manufacturing', 'natural_resources_mining', 'other_services', \n",
    "              'professional_business_services', 'trade_transportation_utilities']"
   ]
  },
  {
   "cell_type": "markdown",
   "metadata": {},
   "source": [
    "## Arguements\n",
    "__csv_file_path:__ *TYPE = STRING*, local file path for csv file to be imported as pandas dataframe to be used for modeling  \n",
    "\n",
    "__period_of_disaster:__ *TYPE = INT*, the indexed period that the disaster occurred in, 0 based indexing with 12 periods per year  \n",
    "\n",
    "__industry_disaster_name:__ *TYPE = STRING*, descriptive name to be used to label the csv and png files exported to current folder  "
   ]
  },
  {
   "cell_type": "code",
   "execution_count": 108,
   "metadata": {},
   "outputs": [],
   "source": [
    "def sarima_search(csv_file_path, period_of_disaster, industry_disaster_name):\n",
    "    \n",
    "    import pandas as pd\n",
    "    import numpy as np\n",
    "    from datetime import datetime\n",
    "    import matplotlib.pyplot as plt\n",
    "    import seaborn as sns\n",
    "    from sklearn.metrics import mean_squared_error\n",
    "    from statsmodels.tsa.arima_model import ARIMA\n",
    "    from statsmodels.tsa.statespace.sarimax import SARIMAX\n",
    "\n",
    "    sns.set_style('whitegrid')\n",
    "\n",
    "    %matplotlib inline\n",
    "    %config InlineBackend.figure_format = 'retina'\n",
    "    \n",
    "    \n",
    "    industry_employment = pd.read_csv(csv_file_path, header=None, names=['date', 'employment'])\n",
    "\n",
    "    industry_employment.index = pd.DatetimeIndex(start=industry_employment['date'][0], periods=len(industry_employment['date']), freq = 'M')\n",
    "\n",
    "    industry_employment.drop(columns='date', inplace=True)\n",
    "\n",
    "    train = industry_employment.iloc[0:period_of_disaster]\n",
    "\n",
    "    test = industry_employment.iloc[period_of_disaster:]\n",
    "\n",
    "\n",
    "    mse = 99 * (10 ** 16)\n",
    "    final_p = 0\n",
    "    final_d = 0\n",
    "    final_q = 0\n",
    "\n",
    "    final_P = 0\n",
    "    final_D = 0\n",
    "    final_Q = 0\n",
    "\n",
    "    for p in range(4):\n",
    "        for q in range(4):\n",
    "            for d in range(4):\n",
    "                for P in range(4):\n",
    "                    for Q in range(4):\n",
    "                        for D in range(4):\n",
    "                            try:\n",
    "                                sarima = SARIMAX(endog = train['employment'],\n",
    "                                                 order = (p, d, q),              # (p, d, q)\n",
    "                                                 seasonal_order = (P, D, Q, 12)) # (P, D, Q, S)\n",
    "\n",
    "                                model = sarima.fit()\n",
    "\n",
    "                                preds = model.predict(start = 0, end = (period_of_disaster - 1))\n",
    "\n",
    "                                if mse > mean_squared_error(train['employment'], preds):\n",
    "                                    mse = mean_squared_error(train['employment'], preds)\n",
    "                                    final_q = q\n",
    "                                    final_d = d\n",
    "                                    final_q = q\n",
    "\n",
    "                                    final_P = P\n",
    "                                    final_D = D\n",
    "                                    final_Q = Q\n",
    "\n",
    "                            except:\n",
    "                                pass\n",
    "\n",
    "    print(f'Our model that minimizes MSE on the training data is the SARIMA({final_p}, {final_d}, {final_q})x({final_P},{final_D},{final_Q},12).')\n",
    "    print(f'This model has an MSE of {mse}.')\n",
    "    \n",
    "    return final_p, final_d, final_q, final_P, final_D, final_Q"
   ]
  },
  {
   "cell_type": "code",
   "execution_count": 109,
   "metadata": {},
   "outputs": [],
   "source": [
    "def sarima_model(p, d, q, P, D, Q, csv_file_path, period_of_disaster, industry_disaster_name):\n",
    "    \n",
    "    import pandas as pd\n",
    "    import numpy as np\n",
    "    from datetime import datetime\n",
    "    import matplotlib.pyplot as plt\n",
    "    import seaborn as sns\n",
    "    from sklearn.metrics import mean_squared_error\n",
    "    from statsmodels.tsa.arima_model import ARIMA\n",
    "    from statsmodels.tsa.statespace.sarimax import SARIMAX\n",
    "\n",
    "    sns.set_style('whitegrid')\n",
    "\n",
    "    %matplotlib inline\n",
    "    %config InlineBackend.figure_format = 'retina'\n",
    "    \n",
    "    \n",
    "    industry_employment = pd.read_csv(csv_file_path, header=None, names=['date', 'employment'])\n",
    "\n",
    "    industry_employment.index = pd.DatetimeIndex(start=industry_employment['date'][0], periods=len(industry_employment['date']), freq = 'M')\n",
    "\n",
    "    industry_employment.drop(columns='date', inplace=True)\n",
    "\n",
    "    train = industry_employment.iloc[0:period_of_disaster]\n",
    "\n",
    "    test = industry_employment.iloc[period_of_disaster:]\n",
    "    \n",
    "    \n",
    "    sarima = SARIMAX(endog = train['employment'], \n",
    "                     order = (p, d, q), \n",
    "                     seasonal_order = (P, D, Q, 12))\n",
    "\n",
    "    model = sarima.fit()\n",
    "\n",
    "    preds = model.predict(start= period_of_disaster, end=48)\n",
    "\n",
    "\n",
    "    plt.figure(figsize=(10,6))\n",
    "    plt.plot(train['employment'], color = 'blue')\n",
    "    plt.plot(test['employment'], color = 'orange')\n",
    "    plt.plot(preds, color = 'green')\n",
    "    plt.title(label = industry_disaster_name, fontsize=18)\n",
    "    plt.savefig('./katrina_datasets_and_visuals/' + industry_disaster_name + '.png')\n",
    "    plt.show();\n",
    "\n",
    "    industry_employment['preds'] = preds\n",
    "    industry_employment['residual'] = industry_employment['preds'] - industry_employment['employment']\n",
    "    \n",
    "    industry_employment.to_csv('./katrina_datasets_and_visuals/' + industry_disaster_name + '.csv')\n",
    "    \n",
    "    return industry_employment, train, test"
   ]
  },
  {
   "cell_type": "markdown",
   "metadata": {},
   "source": [
    "## Construction"
   ]
  },
  {
   "cell_type": "code",
   "execution_count": 111,
   "metadata": {},
   "outputs": [
    {
     "name": "stderr",
     "output_type": "stream",
     "text": [
      "C:\\Users\\aidan\\Anaconda3\\envs\\DSI-6\\lib\\site-packages\\statsmodels\\tsa\\statespace\\representation.py:375: FutureWarning: Using a non-tuple sequence for multidimensional indexing is deprecated; use `arr[tuple(seq)]` instead of `arr[seq]`. In the future this will be interpreted as an array index, `arr[np.array(seq)]`, which will result either in an error or a different result.\n",
      "  return matrix[[slice(None)]*(matrix.ndim-1) + [0]]\n",
      "C:\\Users\\aidan\\Anaconda3\\envs\\DSI-6\\lib\\site-packages\\statsmodels\\tsa\\statespace\\sarimax.py:937: RuntimeWarning: Mean of empty slice.\n",
      "  params_variance = (residuals[k_params_ma:]**2).mean()\n",
      "C:\\Users\\aidan\\Anaconda3\\envs\\DSI-6\\lib\\site-packages\\numpy\\core\\_methods.py:85: RuntimeWarning: invalid value encountered in double_scalars\n",
      "  ret = ret.dtype.type(ret / rcount)\n",
      "C:\\Users\\aidan\\Anaconda3\\envs\\DSI-6\\lib\\site-packages\\statsmodels\\base\\model.py:508: ConvergenceWarning: Maximum Likelihood optimization failed to converge. Check mle_retvals\n",
      "  \"Check mle_retvals\", ConvergenceWarning)\n",
      "C:\\Users\\aidan\\Anaconda3\\envs\\DSI-6\\lib\\site-packages\\statsmodels\\base\\model.py:508: ConvergenceWarning: Maximum Likelihood optimization failed to converge. Check mle_retvals\n",
      "  \"Check mle_retvals\", ConvergenceWarning)\n",
      "C:\\Users\\aidan\\Anaconda3\\envs\\DSI-6\\lib\\site-packages\\statsmodels\\base\\model.py:508: ConvergenceWarning: Maximum Likelihood optimization failed to converge. Check mle_retvals\n",
      "  \"Check mle_retvals\", ConvergenceWarning)\n",
      "C:\\Users\\aidan\\Anaconda3\\envs\\DSI-6\\lib\\site-packages\\statsmodels\\tools\\numdiff.py:96: RuntimeWarning: invalid value encountered in maximum\n",
      "  h = EPS**(1. / s) * np.maximum(np.abs(x), 0.1)\n",
      "C:\\Users\\aidan\\Anaconda3\\envs\\DSI-6\\lib\\site-packages\\statsmodels\\base\\model.py:508: ConvergenceWarning: Maximum Likelihood optimization failed to converge. Check mle_retvals\n",
      "  \"Check mle_retvals\", ConvergenceWarning)\n",
      "C:\\Users\\aidan\\Anaconda3\\envs\\DSI-6\\lib\\site-packages\\statsmodels\\base\\model.py:508: ConvergenceWarning: Maximum Likelihood optimization failed to converge. Check mle_retvals\n",
      "  \"Check mle_retvals\", ConvergenceWarning)\n",
      "C:\\Users\\aidan\\Anaconda3\\envs\\DSI-6\\lib\\site-packages\\statsmodels\\base\\model.py:508: ConvergenceWarning: Maximum Likelihood optimization failed to converge. Check mle_retvals\n",
      "  \"Check mle_retvals\", ConvergenceWarning)\n",
      "C:\\Users\\aidan\\Anaconda3\\envs\\DSI-6\\lib\\site-packages\\statsmodels\\base\\model.py:508: ConvergenceWarning: Maximum Likelihood optimization failed to converge. Check mle_retvals\n",
      "  \"Check mle_retvals\", ConvergenceWarning)\n",
      "C:\\Users\\aidan\\Anaconda3\\envs\\DSI-6\\lib\\site-packages\\statsmodels\\base\\model.py:508: ConvergenceWarning: Maximum Likelihood optimization failed to converge. Check mle_retvals\n",
      "  \"Check mle_retvals\", ConvergenceWarning)\n",
      "C:\\Users\\aidan\\Anaconda3\\envs\\DSI-6\\lib\\site-packages\\statsmodels\\base\\model.py:508: ConvergenceWarning: Maximum Likelihood optimization failed to converge. Check mle_retvals\n",
      "  \"Check mle_retvals\", ConvergenceWarning)\n",
      "C:\\Users\\aidan\\Anaconda3\\envs\\DSI-6\\lib\\site-packages\\statsmodels\\base\\model.py:508: ConvergenceWarning: Maximum Likelihood optimization failed to converge. Check mle_retvals\n",
      "  \"Check mle_retvals\", ConvergenceWarning)\n",
      "C:\\Users\\aidan\\Anaconda3\\envs\\DSI-6\\lib\\site-packages\\statsmodels\\base\\model.py:508: ConvergenceWarning: Maximum Likelihood optimization failed to converge. Check mle_retvals\n",
      "  \"Check mle_retvals\", ConvergenceWarning)\n",
      "C:\\Users\\aidan\\Anaconda3\\envs\\DSI-6\\lib\\site-packages\\statsmodels\\base\\model.py:508: ConvergenceWarning: Maximum Likelihood optimization failed to converge. Check mle_retvals\n",
      "  \"Check mle_retvals\", ConvergenceWarning)\n",
      "C:\\Users\\aidan\\Anaconda3\\envs\\DSI-6\\lib\\site-packages\\statsmodels\\base\\model.py:508: ConvergenceWarning: Maximum Likelihood optimization failed to converge. Check mle_retvals\n",
      "  \"Check mle_retvals\", ConvergenceWarning)\n",
      "C:\\Users\\aidan\\Anaconda3\\envs\\DSI-6\\lib\\site-packages\\statsmodels\\base\\model.py:508: ConvergenceWarning: Maximum Likelihood optimization failed to converge. Check mle_retvals\n",
      "  \"Check mle_retvals\", ConvergenceWarning)\n",
      "C:\\Users\\aidan\\Anaconda3\\envs\\DSI-6\\lib\\site-packages\\statsmodels\\base\\model.py:508: ConvergenceWarning: Maximum Likelihood optimization failed to converge. Check mle_retvals\n",
      "  \"Check mle_retvals\", ConvergenceWarning)\n",
      "C:\\Users\\aidan\\Anaconda3\\envs\\DSI-6\\lib\\site-packages\\statsmodels\\base\\model.py:508: ConvergenceWarning: Maximum Likelihood optimization failed to converge. Check mle_retvals\n",
      "  \"Check mle_retvals\", ConvergenceWarning)\n",
      "C:\\Users\\aidan\\Anaconda3\\envs\\DSI-6\\lib\\site-packages\\statsmodels\\base\\model.py:508: ConvergenceWarning: Maximum Likelihood optimization failed to converge. Check mle_retvals\n",
      "  \"Check mle_retvals\", ConvergenceWarning)\n",
      "C:\\Users\\aidan\\Anaconda3\\envs\\DSI-6\\lib\\site-packages\\statsmodels\\base\\model.py:508: ConvergenceWarning: Maximum Likelihood optimization failed to converge. Check mle_retvals\n",
      "  \"Check mle_retvals\", ConvergenceWarning)\n",
      "C:\\Users\\aidan\\Anaconda3\\envs\\DSI-6\\lib\\site-packages\\statsmodels\\base\\model.py:508: ConvergenceWarning: Maximum Likelihood optimization failed to converge. Check mle_retvals\n",
      "  \"Check mle_retvals\", ConvergenceWarning)\n",
      "C:\\Users\\aidan\\Anaconda3\\envs\\DSI-6\\lib\\site-packages\\statsmodels\\base\\model.py:508: ConvergenceWarning: Maximum Likelihood optimization failed to converge. Check mle_retvals\n",
      "  \"Check mle_retvals\", ConvergenceWarning)\n",
      "C:\\Users\\aidan\\Anaconda3\\envs\\DSI-6\\lib\\site-packages\\statsmodels\\base\\model.py:508: ConvergenceWarning: Maximum Likelihood optimization failed to converge. Check mle_retvals\n",
      "  \"Check mle_retvals\", ConvergenceWarning)\n",
      "C:\\Users\\aidan\\Anaconda3\\envs\\DSI-6\\lib\\site-packages\\statsmodels\\base\\model.py:508: ConvergenceWarning: Maximum Likelihood optimization failed to converge. Check mle_retvals\n",
      "  \"Check mle_retvals\", ConvergenceWarning)\n",
      "C:\\Users\\aidan\\Anaconda3\\envs\\DSI-6\\lib\\site-packages\\statsmodels\\base\\model.py:508: ConvergenceWarning: Maximum Likelihood optimization failed to converge. Check mle_retvals\n",
      "  \"Check mle_retvals\", ConvergenceWarning)\n",
      "C:\\Users\\aidan\\Anaconda3\\envs\\DSI-6\\lib\\site-packages\\statsmodels\\base\\model.py:508: ConvergenceWarning: Maximum Likelihood optimization failed to converge. Check mle_retvals\n",
      "  \"Check mle_retvals\", ConvergenceWarning)\n",
      "C:\\Users\\aidan\\Anaconda3\\envs\\DSI-6\\lib\\site-packages\\statsmodels\\base\\model.py:508: ConvergenceWarning: Maximum Likelihood optimization failed to converge. Check mle_retvals\n",
      "  \"Check mle_retvals\", ConvergenceWarning)\n",
      "C:\\Users\\aidan\\Anaconda3\\envs\\DSI-6\\lib\\site-packages\\statsmodels\\base\\model.py:508: ConvergenceWarning: Maximum Likelihood optimization failed to converge. Check mle_retvals\n",
      "  \"Check mle_retvals\", ConvergenceWarning)\n",
      "C:\\Users\\aidan\\Anaconda3\\envs\\DSI-6\\lib\\site-packages\\statsmodels\\base\\model.py:508: ConvergenceWarning: Maximum Likelihood optimization failed to converge. Check mle_retvals\n",
      "  \"Check mle_retvals\", ConvergenceWarning)\n",
      "C:\\Users\\aidan\\Anaconda3\\envs\\DSI-6\\lib\\site-packages\\statsmodels\\base\\model.py:508: ConvergenceWarning: Maximum Likelihood optimization failed to converge. Check mle_retvals\n",
      "  \"Check mle_retvals\", ConvergenceWarning)\n",
      "C:\\Users\\aidan\\Anaconda3\\envs\\DSI-6\\lib\\site-packages\\statsmodels\\base\\model.py:508: ConvergenceWarning: Maximum Likelihood optimization failed to converge. Check mle_retvals\n",
      "  \"Check mle_retvals\", ConvergenceWarning)\n",
      "C:\\Users\\aidan\\Anaconda3\\envs\\DSI-6\\lib\\site-packages\\statsmodels\\base\\model.py:508: ConvergenceWarning: Maximum Likelihood optimization failed to converge. Check mle_retvals\n",
      "  \"Check mle_retvals\", ConvergenceWarning)\n",
      "C:\\Users\\aidan\\Anaconda3\\envs\\DSI-6\\lib\\site-packages\\statsmodels\\base\\model.py:508: ConvergenceWarning: Maximum Likelihood optimization failed to converge. Check mle_retvals\n",
      "  \"Check mle_retvals\", ConvergenceWarning)\n",
      "C:\\Users\\aidan\\Anaconda3\\envs\\DSI-6\\lib\\site-packages\\statsmodels\\base\\model.py:508: ConvergenceWarning: Maximum Likelihood optimization failed to converge. Check mle_retvals\n",
      "  \"Check mle_retvals\", ConvergenceWarning)\n",
      "C:\\Users\\aidan\\Anaconda3\\envs\\DSI-6\\lib\\site-packages\\statsmodels\\base\\model.py:508: ConvergenceWarning: Maximum Likelihood optimization failed to converge. Check mle_retvals\n",
      "  \"Check mle_retvals\", ConvergenceWarning)\n",
      "C:\\Users\\aidan\\Anaconda3\\envs\\DSI-6\\lib\\site-packages\\statsmodels\\base\\model.py:508: ConvergenceWarning: Maximum Likelihood optimization failed to converge. Check mle_retvals\n",
      "  \"Check mle_retvals\", ConvergenceWarning)\n"
     ]
    },
    {
     "name": "stderr",
     "output_type": "stream",
     "text": [
      "C:\\Users\\aidan\\Anaconda3\\envs\\DSI-6\\lib\\site-packages\\statsmodels\\base\\model.py:508: ConvergenceWarning: Maximum Likelihood optimization failed to converge. Check mle_retvals\n",
      "  \"Check mle_retvals\", ConvergenceWarning)\n",
      "C:\\Users\\aidan\\Anaconda3\\envs\\DSI-6\\lib\\site-packages\\statsmodels\\base\\model.py:508: ConvergenceWarning: Maximum Likelihood optimization failed to converge. Check mle_retvals\n",
      "  \"Check mle_retvals\", ConvergenceWarning)\n",
      "C:\\Users\\aidan\\Anaconda3\\envs\\DSI-6\\lib\\site-packages\\statsmodels\\base\\model.py:508: ConvergenceWarning: Maximum Likelihood optimization failed to converge. Check mle_retvals\n",
      "  \"Check mle_retvals\", ConvergenceWarning)\n",
      "C:\\Users\\aidan\\Anaconda3\\envs\\DSI-6\\lib\\site-packages\\statsmodels\\base\\model.py:508: ConvergenceWarning: Maximum Likelihood optimization failed to converge. Check mle_retvals\n",
      "  \"Check mle_retvals\", ConvergenceWarning)\n",
      "C:\\Users\\aidan\\Anaconda3\\envs\\DSI-6\\lib\\site-packages\\statsmodels\\base\\model.py:508: ConvergenceWarning: Maximum Likelihood optimization failed to converge. Check mle_retvals\n",
      "  \"Check mle_retvals\", ConvergenceWarning)\n",
      "C:\\Users\\aidan\\Anaconda3\\envs\\DSI-6\\lib\\site-packages\\statsmodels\\base\\model.py:508: ConvergenceWarning: Maximum Likelihood optimization failed to converge. Check mle_retvals\n",
      "  \"Check mle_retvals\", ConvergenceWarning)\n",
      "C:\\Users\\aidan\\Anaconda3\\envs\\DSI-6\\lib\\site-packages\\statsmodels\\base\\model.py:508: ConvergenceWarning: Maximum Likelihood optimization failed to converge. Check mle_retvals\n",
      "  \"Check mle_retvals\", ConvergenceWarning)\n",
      "C:\\Users\\aidan\\Anaconda3\\envs\\DSI-6\\lib\\site-packages\\statsmodels\\base\\model.py:508: ConvergenceWarning: Maximum Likelihood optimization failed to converge. Check mle_retvals\n",
      "  \"Check mle_retvals\", ConvergenceWarning)\n",
      "C:\\Users\\aidan\\Anaconda3\\envs\\DSI-6\\lib\\site-packages\\statsmodels\\base\\model.py:508: ConvergenceWarning: Maximum Likelihood optimization failed to converge. Check mle_retvals\n",
      "  \"Check mle_retvals\", ConvergenceWarning)\n",
      "C:\\Users\\aidan\\Anaconda3\\envs\\DSI-6\\lib\\site-packages\\statsmodels\\base\\model.py:508: ConvergenceWarning: Maximum Likelihood optimization failed to converge. Check mle_retvals\n",
      "  \"Check mle_retvals\", ConvergenceWarning)\n",
      "C:\\Users\\aidan\\Anaconda3\\envs\\DSI-6\\lib\\site-packages\\statsmodels\\base\\model.py:508: ConvergenceWarning: Maximum Likelihood optimization failed to converge. Check mle_retvals\n",
      "  \"Check mle_retvals\", ConvergenceWarning)\n"
     ]
    },
    {
     "name": "stdout",
     "output_type": "stream",
     "text": [
      "Our model that minimizes MSE on the training data is the SARIMA(0, 1, 3)x(2,0,0,12).\n",
      "This model has an MSE of 51262501.40360815.\n"
     ]
    },
    {
     "data": {
      "text/plain": [
       "(0, 1, 3, 2, 0, 0)"
      ]
     },
     "execution_count": 111,
     "metadata": {},
     "output_type": "execute_result"
    }
   ],
   "source": [
    "sarima_search(csv_file_path='./DisastersbyIndustry/Katrina-Industry/construction_all_employees.csv', period_of_disaster=31, industry_disaster_name='katrina_construction')"
   ]
  },
  {
   "cell_type": "code",
   "execution_count": 132,
   "metadata": {},
   "outputs": [
    {
     "data": {
      "image/png": "[encoded data removed]",
      "text/plain": [
       "<Figure size 720x432 with 1 Axes>"
      ]
     },
     "metadata": {
      "image/png": {
       "height": 376,
       "width": 608
      },
      "needs_background": "light"
     },
     "output_type": "display_data"
    },
    {
     "data": {
      "text/plain": [
       "(            employment         preds     residual\n",
       " 2003-01-31     39739.0           NaN          NaN\n",
       " 2003-02-28     40319.0           NaN          NaN\n",
       " 2003-03-31     39988.0           NaN          NaN\n",
       " 2003-04-30     40730.0           NaN          NaN\n",
       " 2003-05-31     40415.0           NaN          NaN\n",
       " 2003-06-30     40328.0           NaN          NaN\n",
       " 2003-07-31     37036.0           NaN          NaN\n",
       " 2003-08-31     36969.0           NaN          NaN\n",
       " 2003-09-30     36729.0           NaN          NaN\n",
       " 2003-10-31     36873.0           NaN          NaN\n",
       " 2003-11-30     36297.0           NaN          NaN\n",
       " 2003-12-31     36190.0           NaN          NaN\n",
       " 2004-01-31     36681.0           NaN          NaN\n",
       " 2004-02-29     36595.0           NaN          NaN\n",
       " 2004-03-31     37114.0           NaN          NaN\n",
       " 2004-04-30     37465.0           NaN          NaN\n",
       " 2004-05-31     37343.0           NaN          NaN\n",
       " 2004-06-30     37267.0           NaN          NaN\n",
       " 2004-07-31     37081.0           NaN          NaN\n",
       " 2004-08-31     36886.0           NaN          NaN\n",
       " 2004-09-30     36551.0           NaN          NaN\n",
       " 2004-10-31     37208.0           NaN          NaN\n",
       " 2004-11-30     37492.0           NaN          NaN\n",
       " 2004-12-31     37220.0           NaN          NaN\n",
       " 2005-01-31     34671.0           NaN          NaN\n",
       " 2005-02-28     34600.0           NaN          NaN\n",
       " 2005-03-31     35270.0           NaN          NaN\n",
       " 2005-04-30     35681.0           NaN          NaN\n",
       " 2005-05-31     36107.0           NaN          NaN\n",
       " 2005-06-30     36374.0           NaN          NaN\n",
       " 2005-07-31     36383.0           NaN          NaN\n",
       " 2005-08-31     36040.0  35991.614507   -48.385493\n",
       " 2005-09-30     28781.0  36003.458012  7222.458012\n",
       " 2005-10-31     33906.0  36759.503475  2853.503475\n",
       " 2005-11-30     36788.0  37587.926199   799.926199\n",
       " 2005-12-31     38549.0  37240.748321 -1308.251679\n",
       " 2006-01-31     39792.0  33962.960384 -5829.039616\n",
       " 2006-02-28     40185.0  33893.440774 -6291.559226\n",
       " 2006-03-31     41343.0  34767.078081 -6575.921919\n",
       " 2006-04-30     41728.0  35205.625559 -6522.374441\n",
       " 2006-05-31     43059.0  35919.668067 -7139.331933\n",
       " 2006-06-30     44444.0  36307.912270 -8136.087730\n",
       " 2006-07-31     41902.0  36467.904009 -5434.095991\n",
       " 2006-08-31     42312.0  36034.220061 -6277.779939\n",
       " 2006-09-30     42185.0  36222.834326 -5962.165674\n",
       " 2006-10-31     42305.0  37028.262932 -5276.737068\n",
       " 2006-11-30     41858.0  38078.564184 -3779.435816\n",
       " 2006-12-31     41806.0  37726.326645 -4079.673355,             employment\n",
       " 2003-01-31     39739.0\n",
       " 2003-02-28     40319.0\n",
       " 2003-03-31     39988.0\n",
       " 2003-04-30     40730.0\n",
       " 2003-05-31     40415.0\n",
       " 2003-06-30     40328.0\n",
       " 2003-07-31     37036.0\n",
       " 2003-08-31     36969.0\n",
       " 2003-09-30     36729.0\n",
       " 2003-10-31     36873.0\n",
       " 2003-11-30     36297.0\n",
       " 2003-12-31     36190.0\n",
       " 2004-01-31     36681.0\n",
       " 2004-02-29     36595.0\n",
       " 2004-03-31     37114.0\n",
       " 2004-04-30     37465.0\n",
       " 2004-05-31     37343.0\n",
       " 2004-06-30     37267.0\n",
       " 2004-07-31     37081.0\n",
       " 2004-08-31     36886.0\n",
       " 2004-09-30     36551.0\n",
       " 2004-10-31     37208.0\n",
       " 2004-11-30     37492.0\n",
       " 2004-12-31     37220.0\n",
       " 2005-01-31     34671.0\n",
       " 2005-02-28     34600.0\n",
       " 2005-03-31     35270.0\n",
       " 2005-04-30     35681.0\n",
       " 2005-05-31     36107.0\n",
       " 2005-06-30     36374.0\n",
       " 2005-07-31     36383.0,             employment\n",
       " 2005-08-31     36040.0\n",
       " 2005-09-30     28781.0\n",
       " 2005-10-31     33906.0\n",
       " 2005-11-30     36788.0\n",
       " 2005-12-31     38549.0\n",
       " 2006-01-31     39792.0\n",
       " 2006-02-28     40185.0\n",
       " 2006-03-31     41343.0\n",
       " 2006-04-30     41728.0\n",
       " 2006-05-31     43059.0\n",
       " 2006-06-30     44444.0\n",
       " 2006-07-31     41902.0\n",
       " 2006-08-31     42312.0\n",
       " 2006-09-30     42185.0\n",
       " 2006-10-31     42305.0\n",
       " 2006-11-30     41858.0\n",
       " 2006-12-31     41806.0)"
      ]
     },
     "execution_count": 132,
     "metadata": {},
     "output_type": "execute_result"
    }
   ],
   "source": [
    "sarima_model(2,1,3,1,1,0, csv_file_path='./DisastersbyIndustry/Katrina-Industry/construction_all_employees.csv', period_of_disaster=31, industry_disaster_name='katrina_construction')"
   ]
  },
  {
   "cell_type": "markdown",
   "metadata": {},
   "source": [
    "## Education and Health Services"
   ]
  },
  {
   "cell_type": "code",
   "execution_count": 134,
   "metadata": {},
   "outputs": [
    {
     "name": "stderr",
     "output_type": "stream",
     "text": [
      "C:\\Users\\aidan\\Anaconda3\\envs\\DSI-6\\lib\\site-packages\\statsmodels\\base\\model.py:508: ConvergenceWarning: Maximum Likelihood optimization failed to converge. Check mle_retvals\n",
      "  \"Check mle_retvals\", ConvergenceWarning)\n",
      "C:\\Users\\aidan\\Anaconda3\\envs\\DSI-6\\lib\\site-packages\\statsmodels\\base\\model.py:508: ConvergenceWarning: Maximum Likelihood optimization failed to converge. Check mle_retvals\n",
      "  \"Check mle_retvals\", ConvergenceWarning)\n",
      "C:\\Users\\aidan\\Anaconda3\\envs\\DSI-6\\lib\\site-packages\\statsmodels\\base\\model.py:508: ConvergenceWarning: Maximum Likelihood optimization failed to converge. Check mle_retvals\n",
      "  \"Check mle_retvals\", ConvergenceWarning)\n",
      "C:\\Users\\aidan\\Anaconda3\\envs\\DSI-6\\lib\\site-packages\\statsmodels\\base\\model.py:508: ConvergenceWarning: Maximum Likelihood optimization failed to converge. Check mle_retvals\n",
      "  \"Check mle_retvals\", ConvergenceWarning)\n",
      "C:\\Users\\aidan\\Anaconda3\\envs\\DSI-6\\lib\\site-packages\\statsmodels\\base\\model.py:508: ConvergenceWarning: Maximum Likelihood optimization failed to converge. Check mle_retvals\n",
      "  \"Check mle_retvals\", ConvergenceWarning)\n",
      "C:\\Users\\aidan\\Anaconda3\\envs\\DSI-6\\lib\\site-packages\\statsmodels\\base\\model.py:508: ConvergenceWarning: Maximum Likelihood optimization failed to converge. Check mle_retvals\n",
      "  \"Check mle_retvals\", ConvergenceWarning)\n",
      "C:\\Users\\aidan\\Anaconda3\\envs\\DSI-6\\lib\\site-packages\\statsmodels\\base\\model.py:508: ConvergenceWarning: Maximum Likelihood optimization failed to converge. Check mle_retvals\n",
      "  \"Check mle_retvals\", ConvergenceWarning)\n"
     ]
    },
    {
     "name": "stdout",
     "output_type": "stream",
     "text": [
      "Our model that minimizes MSE on the training data is the SARIMA(0, 1, 2)x(1,0,0,12).\n",
      "This model has an MSE of 248156808.4946444.\n"
     ]
    },
    {
     "data": {
      "text/plain": [
       "(0, 1, 2, 1, 0, 0)"
      ]
     },
     "execution_count": 134,
     "metadata": {},
     "output_type": "execute_result"
    }
   ],
   "source": [
    "sarima_search(csv_file_path='./DisastersbyIndustry/Katrina-Industry/education_health_services_all_employees.csv', period_of_disaster=31, industry_disaster_name='katrina_edu_health_services')"
   ]
  },
  {
   "cell_type": "code",
   "execution_count": null,
   "metadata": {},
   "outputs": [],
   "source": [
    "sarima_search(csv_file_path='./DisastersbyIndustry/Katrina-Industry/education_health_services_all_employees.csv', period_of_disaster=31, industry)"
   ]
  }
 ],
 "metadata": {
  "kernelspec": {
   "display_name": "Python 3",
   "language": "python",
   "name": "python3"
  },
  "language_info": {
   "codemirror_mode": {
    "name": "ipython",
    "version": 3
   },
   "file_extension": ".py",
   "mimetype": "text/x-python",
   "name": "python",
   "nbconvert_exporter": "python",
   "pygments_lexer": "ipython3",
   "version": "3.6.6"
  }
 },
 "nbformat": 4,
 "nbformat_minor": 2
}
